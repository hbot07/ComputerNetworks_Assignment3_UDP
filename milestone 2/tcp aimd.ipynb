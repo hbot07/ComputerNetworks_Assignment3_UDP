{
 "cells": [
  {
   "cell_type": "code",
   "execution_count": 9,
   "id": "initial_id",
   "metadata": {
    "collapsed": true,
    "ExecuteTime": {
     "end_time": "2023-10-21T12:30:18.100919Z",
     "start_time": "2023-10-21T12:30:18.093172Z"
    }
   },
   "outputs": [],
   "source": [
    "import socket\n",
    "import hashlib\n",
    "import matplotlib.pyplot as plt\n",
    "import time\n",
    "import numpy as np\n",
    "t0 = time.perf_counter()\n",
    "serverAddressPort   = (\"127.0.0.1\", 9801)\n",
    "\n",
    "bufferSize          = 1500\n",
    "\n",
    "\n",
    "def sleep(duration, get_now=time.perf_counter):\n",
    "    now = get_now()\n",
    "    end = now + duration\n",
    "    while now < end:\n",
    "        now = get_now()"
   ]
  },
  {
   "cell_type": "code",
   "execution_count": 10,
   "outputs": [],
   "source": [
    "UDPClientSocket = socket.socket(family=socket.AF_INET, type=socket.SOCK_DGRAM)\n",
    "UDPClientSocket.setsockopt(socket.SOL_SOCKET, socket.SO_REUSEADDR, 1)"
   ],
   "metadata": {
    "collapsed": false,
    "ExecuteTime": {
     "end_time": "2023-10-21T12:30:18.111607Z",
     "start_time": "2023-10-21T12:30:18.100300Z"
    }
   },
   "id": "ac32466784fc33f7"
  },
  {
   "cell_type": "code",
   "execution_count": 11,
   "outputs": [
    {
     "name": "stdout",
     "output_type": "stream",
     "text": [
      "('127.0.0.1', 9801)\n",
      "sent request\n"
     ]
    }
   ],
   "source": [
    "print(serverAddressPort)\n",
    "UDPClientSocket.sendto(str.encode(\"SendSize\\nReset\\n\\n\"), serverAddressPort)\n",
    "print(\"sent request\")\n",
    "totalsize = 0"
   ],
   "metadata": {
    "collapsed": false,
    "ExecuteTime": {
     "end_time": "2023-10-21T12:30:18.126842Z",
     "start_time": "2023-10-21T12:30:18.106926Z"
    }
   },
   "id": "9dbb5b9a31ddaa0a"
  },
  {
   "cell_type": "code",
   "execution_count": 12,
   "outputs": [
    {
     "name": "stdout",
     "output_type": "stream",
     "text": [
      "(b'Size: 888034\\n\\n', ('127.0.0.1', 9801))\n",
      "Size: 888034\n"
     ]
    }
   ],
   "source": [
    "while True:\n",
    "    try:\n",
    "        msgFromServer = UDPClientSocket.recvfrom(bufferSize)\n",
    "        print(msgFromServer)\n",
    "        msg = msgFromServer[0].decode()\n",
    "        print(msg)\n",
    "        brokenmessage = msg.split(\"\\n\")\n",
    "        if(brokenmessage[-1] == \"\" and brokenmessage[-2] == \"\"):\n",
    "            if (brokenmessage[0][:4] == \"Size\"):\n",
    "                totalsize = int(brokenmessage[0][6:])\n",
    "        break\n",
    "    except TimeoutError:\n",
    "        time.sleep(0.2)\n",
    "        UDPClientSocket.sendto(str.encode(\"SendSize\\nReset\\n\\n\"), serverAddressPort)"
   ],
   "metadata": {
    "collapsed": false,
    "ExecuteTime": {
     "end_time": "2023-10-21T12:30:18.127992Z",
     "start_time": "2023-10-21T12:30:18.117667Z"
    }
   },
   "id": "b5a7b6e204977ed1"
  },
  {
   "cell_type": "code",
   "execution_count": 30,
   "outputs": [
    {
     "name": "stdout",
     "output_type": "stream",
     "text": [
      "(b'Offset: 0\\nNumBytes: 1448\\n\\nby Sir Arthur Conan Doyle\\nCopyright laws are changing all over the world. Be sure to check the\\nthis or any other Project Gutenberg eBook.\\nThis header should be the first thing seen when viewing this Project\\nheader without written permission.\\neBook and Project Gutenberg at the bottom of this file.  Included is\\nimportant information about your specific rights and restrictions in\\ndonation to Project Gutenberg, and how to get involved.\\n**Welcome To The World of Free Plain Vanilla Electronic Texts**\\nAuthor: Sir Arthur Conan Doyle\\n[Most recently updated: November 29, 2002]\\nLanguage: English\\nCharacter set encoding: ASCII\\n(Additional editing by Jose Menendez)\\nTHE ADVENTURES OF\\nCONTENTS\\nI.\\tA Scandal in Bohemia\\nII.\\tThe Red-Headed League\\nIII.\\tA Case of Identity\\nIV.\\tThe Boscombe Valley Mystery\\nV.\\tThe Five Orange Pips\\nVIII.\\tThe Adventure of the Speckled Band\\nX.\\tThe Adventure of the Noble Bachelor\\nI had seen little of Holmes lately. My marriage had drifted us away from each other. My own complete happiness, and the home-centred interests which rise up around the man who first finds himself master of his own establishment, were sufficient to absorb all my attention, while Holmes, who loathed every form of society with his whole Bohemian soul, remained in our lodgings in Baker Street, buried among his old books, and alternating from week to week between cocaine and ambition, the drowsiness of the drug, and the fierce energy of his own keen ', ('127.0.0.1', 9801))\n"
     ]
    }
   ],
   "source": [
    "UDPClientSocket.sendto(str.encode(\"Offset: \" + \"0\" + \"\\nNumBytes: \"\n",
    "                                      + str(min(1448, totalsize - 0)) + \"\\n\\n\"), serverAddressPort)\n",
    "msgFromServer = UDPClientSocket.recvfrom(bufferSize)\n",
    "print(msgFromServer)"
   ],
   "metadata": {
    "collapsed": false,
    "ExecuteTime": {
     "end_time": "2023-10-21T12:32:10.776527Z",
     "start_time": "2023-10-21T12:32:10.768579Z"
    }
   },
   "id": "e808bcf863e41e3f"
  },
  {
   "cell_type": "code",
   "execution_count": null,
   "outputs": [],
   "source": [
    "counter = 0\n",
    "\n",
    "def fetch_data(burst_size:int, wait_time:float):\n",
    "    nonlocal counter\n",
    "    for i in range(burst_size):\n",
    "        UDPClientSocket.sendto(str.encode(\"Offset: \" + str(counter) + \"\\nNumBytes: \"\n",
    "                                      + str(min(1448, totalsize - counter)) + \"\\n\\n\"), serverAddressPort)\n",
    "        while True:\n",
    "            try:\n",
    "                msgFromServer = UDPClientSocket.recvfrom(bufferSize)\n",
    "                msg = msgFromServer[0].decode()\n",
    "                brokenmessage = msg.split(\"\\n\")\n",
    "                print(counter)\n",
    "                if(brokenmessage[2] == \"\"):\n",
    "                    if (brokenmessage[0][:6] == \"Offset\"):\n",
    "                        offset = int(brokenmessage[0][8:])\n",
    "                        print(\"offset:\" + str(offset))\n",
    "                        packsize = int(brokenmessage[1][10:])\n",
    "                        print(\"packetsize: \"+str(packsize))\n",
    "                        print(len(msg) - (len(brokenmessage[0])+len(brokenmessage[1])+3))\n",
    "                        if (offset == counter and (len(msg) - (len(brokenmessage[0])+len(brokenmessage[1])+3))== packsize):\n",
    "                            data += msg[len(brokenmessage[0]) +len(brokenmessage[1])+3:]\n",
    "                            graph_offset_recv.append(offset)\n",
    "                            graph_time_recv.append(time.perf_counter() - t0)\n",
    "                            counter += packsize\n",
    "                            sleep(0.00245)\n",
    "                            break\n",
    "                        else:\n",
    "                            sleep(0.002)\n",
    "                            UDPClientSocket.sendto(str.encode(\"Offset: \"+str(counter)+\"\\nNumBytes: \"+str(min(1448,totalsize - counter))+\"\\n\\n\"), serverAddressPort)\n",
    "    \n",
    "                    else:\n",
    "                        sleep(0.002)\n",
    "                        UDPClientSocket.sendto(str.encode(\"Offset: \"+str(counter)+\"\\nNumBytes: \"+str(min(1448,totalsize - counter))+\"\\n\\n\"), serverAddressPort)\n",
    "                else:\n",
    "                    sleep(0.002)\n",
    "                    UDPClientSocket.sendto(str.encode(\"Offset: \"+str(counter)+\"\\nNumBytes: \"+str(min(1448,totalsize - counter))+\"\\n\\n\"), serverAddressPort)\n",
    "                \n",
    "                \n",
    "            except TimeoutError:\n",
    "                sleep(0.003)\n",
    "                UDPClientSocket.sendto(str.encode(\"Offset: \"+str(counter)+\"\\nNumBytes: \"+str(min(1448,totalsize - counter))+\"\\n\\n\"), serverAddressPort)\n",
    "        return (counter < totalsize)"
   ],
   "metadata": {
    "collapsed": false
   },
   "id": "bb9a5e1ca3706ee"
  }
 ],
 "metadata": {
  "kernelspec": {
   "display_name": "Python 3",
   "language": "python",
   "name": "python3"
  },
  "language_info": {
   "codemirror_mode": {
    "name": "ipython",
    "version": 2
   },
   "file_extension": ".py",
   "mimetype": "text/x-python",
   "name": "python",
   "nbconvert_exporter": "python",
   "pygments_lexer": "ipython2",
   "version": "2.7.6"
  }
 },
 "nbformat": 4,
 "nbformat_minor": 5
}
