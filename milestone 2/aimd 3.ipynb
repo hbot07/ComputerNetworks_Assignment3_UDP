{
 "cells": [
  {
   "cell_type": "code",
   "execution_count": 16,
   "id": "initial_id",
   "metadata": {
    "collapsed": true,
    "ExecuteTime": {
     "end_time": "2023-10-21T15:52:36.545575Z",
     "start_time": "2023-10-21T15:52:36.519877Z"
    }
   },
   "outputs": [
    {
     "name": "stdout",
     "output_type": "stream",
     "text": [
      "total size: 903430\n"
     ]
    },
    {
     "ename": "TypeError",
     "evalue": "can't concat str to bytes",
     "output_type": "error",
     "traceback": [
      "\u001B[0;31m---------------------------------------------------------------------------\u001B[0m",
      "\u001B[0;31mTypeError\u001B[0m                                 Traceback (most recent call last)",
      "Cell \u001B[0;32mIn[16], line 51\u001B[0m\n\u001B[1;32m     49\u001B[0m     \u001B[38;5;28;01mif\u001B[39;00m data_chunk:\n\u001B[1;32m     50\u001B[0m         data_chunk_split \u001B[38;5;241m=\u001B[39m data_chunk\u001B[38;5;241m.\u001B[39mdecode()\u001B[38;5;241m.\u001B[39msplit(\u001B[38;5;124m'\u001B[39m\u001B[38;5;130;01m\\n\u001B[39;00m\u001B[38;5;130;01m\\n\u001B[39;00m\u001B[38;5;124m'\u001B[39m)\n\u001B[0;32m---> 51\u001B[0m         \u001B[43mreceived_data\u001B[49m\u001B[43m \u001B[49m\u001B[38;5;241;43m+\u001B[39;49m\u001B[38;5;241;43m=\u001B[39;49m\u001B[43m \u001B[49m\u001B[43mdata_chunk_split\u001B[49m\u001B[43m[\u001B[49m\u001B[38;5;241;43m1\u001B[39;49m\u001B[43m]\u001B[49m\n\u001B[1;32m     52\u001B[0m         offset \u001B[38;5;241m+\u001B[39m\u001B[38;5;241m=\u001B[39m CHUNK_SIZE\n\u001B[1;32m     54\u001B[0m \u001B[38;5;28mprint\u001B[39m(\u001B[38;5;124mf\u001B[39m\u001B[38;5;124m\"\u001B[39m\u001B[38;5;124mReceived \u001B[39m\u001B[38;5;132;01m{\u001B[39;00m\u001B[38;5;28mlen\u001B[39m(received_data)\u001B[38;5;132;01m}\u001B[39;00m\u001B[38;5;124m/\u001B[39m\u001B[38;5;132;01m{\u001B[39;00mtotal_size\u001B[38;5;132;01m}\u001B[39;00m\u001B[38;5;124m bytes of data.\u001B[39m\u001B[38;5;124m\"\u001B[39m)\n",
      "\u001B[0;31mTypeError\u001B[0m: can't concat str to bytes"
     ]
    }
   ],
   "source": [
    "import socket\n",
    "import time\n",
    "\n",
    "# Constants\n",
    "SERVER_IP = '127.0.0.1'\n",
    "SERVER_PORT = 9802\n",
    "BUFFER_SIZE = 2048\n",
    "TIMEOUT = 0.025  # Timeout in seconds\n",
    "MAX_RETRIES = 5\n",
    "\n",
    "def get_data_from_server(offset, num_bytes):\n",
    "    retries = 0\n",
    "    \n",
    "    # Create the request message\n",
    "    message = f\"Offset: {offset}\\nNumBytes: {num_bytes}\\n\\n\"\n",
    "    \n",
    "    while retries < MAX_RETRIES:\n",
    "        # Send the request\n",
    "        client_socket.sendto(message.encode(), (SERVER_IP, SERVER_PORT))\n",
    "        \n",
    "        # Wait for a response\n",
    "        try:\n",
    "            data, addr = client_socket.recvfrom(BUFFER_SIZE)\n",
    "            return data\n",
    "        except socket.timeout:\n",
    "            retries += 1\n",
    "            print(f\"Timeout for Offset: {offset}. Retrying ({retries}/{MAX_RETRIES})...\")\n",
    "    \n",
    "    print(f\"Failed to fetch data for Offset: {offset} after {MAX_RETRIES} retries.\")\n",
    "    return None\n",
    "\n",
    "if __name__ == \"__main__\":\n",
    "    # Create a UDP socket\n",
    "    client_socket = socket.socket(socket.AF_INET, socket.SOCK_DGRAM)\n",
    "    client_socket.settimeout(TIMEOUT)\n",
    "    \n",
    "    # Get total data size\n",
    "    client_socket.sendto(b\"SendSize\\n\\n\", (SERVER_IP, SERVER_PORT))\n",
    "    size_data, addr = client_socket.recvfrom(BUFFER_SIZE)\n",
    "    total_size = int(size_data.decode().split(\":\")[1].strip())\n",
    "    print(f\"total size: {total_size}\")\n",
    "    # Fetch data in chunks\n",
    "    offset = 0\n",
    "    CHUNK_SIZE = 1448\n",
    "    received_data = b\"\"\n",
    "    \n",
    "    while offset < total_size:\n",
    "        data_chunk = get_data_from_server(offset, CHUNK_SIZE)\n",
    "        if data_chunk:\n",
    "            data_chunk_split = data_chunk.decode().split('\\n\\n')\n",
    "            received_data += data_chunk_split[1]\n",
    "            offset += CHUNK_SIZE\n",
    "    \n",
    "    print(f\"Received {len(received_data)}/{total_size} bytes of data.\")\n",
    "\n",
    "    # Close the socket\n",
    "    client_socket.close()"
   ]
  },
  {
   "cell_type": "code",
   "execution_count": null,
   "outputs": [],
   "source": [
    "\"Squished\" in received_data.decode()"
   ],
   "metadata": {
    "collapsed": false,
    "ExecuteTime": {
     "end_time": "2023-10-21T15:52:36.546309Z",
     "start_time": "2023-10-21T15:52:36.545815Z"
    }
   },
   "id": "32b4b45df8f87578"
  },
  {
   "cell_type": "code",
   "execution_count": null,
   "outputs": [],
   "source": [
    "import hashlib\n",
    "md5 = hashlib.md5(received_data).hexdigest()\n",
    "print(md5)\n",
    "print(type(md5))\n",
    "client_socket.sendto(str.encode(\"Submit: 2021CS50622@myteam\\nMD5: \"+md5+\"\\n\\n\"), (SERVER_IP, SERVER_PORT))\n",
    "while True:\n",
    "    try:\n",
    "        msgFromServer = client_socket.recvfrom(BUFFER_SIZE)\n",
    "        msg = msgFromServer[0].decode()\n",
    "        print(msg)\n",
    "        brokenmessage = msg.split(\"\\n\")\n",
    "        if(brokenmessage[len(brokenmessage)-1] == \"\" and brokenmessage[len(brokenmessage)-2] == \"\"):\n",
    "            if (brokenmessage[0][:4] == \"Size\"):\n",
    "                totalsize = int(brokenmessage[0][6:])\n",
    "        break\n",
    "    except:\n",
    "        time.sleep(0.2)\n",
    "        client_socket.sendto(str.encode(\"Submit: testing\\n\"+str(md5)+\"\\n\\n\"), (SERVER_IP, SERVER_PORT))"
   ],
   "metadata": {
    "collapsed": false,
    "ExecuteTime": {
     "end_time": "2023-10-21T15:52:36.552053Z",
     "start_time": "2023-10-21T15:52:36.547155Z"
    }
   },
   "id": "e369af1816aee74d"
  }
 ],
 "metadata": {
  "kernelspec": {
   "display_name": "Python 3",
   "language": "python",
   "name": "python3"
  },
  "language_info": {
   "codemirror_mode": {
    "name": "ipython",
    "version": 2
   },
   "file_extension": ".py",
   "mimetype": "text/x-python",
   "name": "python",
   "nbconvert_exporter": "python",
   "pygments_lexer": "ipython2",
   "version": "2.7.6"
  }
 },
 "nbformat": 4,
 "nbformat_minor": 5
}
